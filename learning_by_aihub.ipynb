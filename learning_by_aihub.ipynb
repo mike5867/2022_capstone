{
 "cells": [
  {
   "cell_type": "code",
   "execution_count": 1,
   "id": "ff535ae1",
   "metadata": {
    "scrolled": false
   },
   "outputs": [
    {
     "name": "stdout",
     "output_type": "stream",
     "text": [
      "^C\n",
      "Requirement already satisfied: matplotlib in c:\\users\\seongjin\\anaconda3\\envs\\capstone\\lib\\site-packages (3.5.1)\n",
      "Requirement already satisfied: pyparsing>=2.2.1 in c:\\users\\seongjin\\anaconda3\\envs\\capstone\\lib\\site-packages (from matplotlib) (3.0.6)\n",
      "Requirement already satisfied: kiwisolver>=1.0.1 in c:\\users\\seongjin\\anaconda3\\envs\\capstone\\lib\\site-packages (from matplotlib) (1.3.2)\n",
      "Requirement already satisfied: numpy>=1.17 in c:\\users\\seongjin\\anaconda3\\envs\\capstone\\lib\\site-packages (from matplotlib) (1.21.2)\n",
      "Requirement already satisfied: fonttools>=4.22.0 in c:\\users\\seongjin\\anaconda3\\envs\\capstone\\lib\\site-packages (from matplotlib) (4.28.5)\n",
      "Requirement already satisfied: cycler>=0.10 in c:\\users\\seongjin\\anaconda3\\envs\\capstone\\lib\\site-packages (from matplotlib) (0.11.0)\n",
      "Requirement already satisfied: pillow>=6.2.0 in c:\\users\\seongjin\\anaconda3\\envs\\capstone\\lib\\site-packages (from matplotlib) (8.4.0)\n",
      "Requirement already satisfied: packaging>=20.0 in c:\\users\\seongjin\\anaconda3\\envs\\capstone\\lib\\site-packages (from matplotlib) (21.3)\n",
      "Requirement already satisfied: python-dateutil>=2.7 in c:\\users\\seongjin\\anaconda3\\envs\\capstone\\lib\\site-packages (from matplotlib) (2.8.2)\n",
      "Requirement already satisfied: six>=1.5 in c:\\users\\seongjin\\anaconda3\\envs\\capstone\\lib\\site-packages (from python-dateutil>=2.7->matplotlib) (1.16.0)\n",
      "Requirement already satisfied: beautifulsoup4 in c:\\users\\seongjin\\anaconda3\\envs\\capstone\\lib\\site-packages (4.10.0)\n",
      "Requirement already satisfied: soupsieve>1.2 in c:\\users\\seongjin\\anaconda3\\envs\\capstone\\lib\\site-packages (from beautifulsoup4) (2.3.1)\n",
      "Requirement already satisfied: lxml in c:\\users\\seongjin\\anaconda3\\envs\\capstone\\lib\\site-packages (4.7.1)\n",
      "^C\n",
      "^C\n",
      "Requirement already satisfied: opencv-python in c:\\users\\seongjin\\anaconda3\\envs\\capstone\\lib\\site-packages (4.5.5.62)\n",
      "Requirement already satisfied: numpy>=1.17.3 in c:\\users\\seongjin\\anaconda3\\envs\\capstone\\lib\\site-packages (from opencv-python) (1.21.2)\n",
      "^C\n"
     ]
    }
   ],
   "source": [
    "!pip3 install torch==1.10.1+cu113 torchvision==0.11.2+cu113 torchaudio===0.10.1+cu113 -f https://download.pytorch.org/whl/cu113/torch_stable.html\n",
    "\n",
    "!pip install matplotlib\n",
    "\n",
    "!pip install beautifulsoup4\n",
    "\n",
    "!pip install lxml\n",
    "\n",
    "!pip install opencv-python\n",
    "\n",
    "!pip3 install albumentations\n",
    "\n",
    "!pip install --upgrade albumentations"
   ]
  },
  {
   "cell_type": "code",
   "execution_count": 1,
   "id": "0dfcf8a8",
   "metadata": {},
   "outputs": [],
   "source": [
    "import shutil\n",
    "import glob\n",
    "import matplotlib.pyplot as plt\n",
    "import matplotlib.patches as patches\n",
    "from bs4 import BeautifulSoup\n",
    "import os\n",
    "\n",
    "from PIL import Image\n",
    "import cv2\n",
    "import numpy as np\n",
    "import torch\n",
    "import torchvision\n",
    "from torch.utils.data import Dataset\n",
    "from torchvision import transforms\n",
    "import albumentations\n",
    "import albumentations.pytorch\n",
    "\n",
    "import time\n",
    "from tqdm import tqdm"
   ]
  },
  {
   "cell_type": "code",
   "execution_count": 2,
   "id": "33adad3f",
   "metadata": {},
   "outputs": [],
   "source": [
    "def generate_box(obj):\n",
    "    xtl=float(obj['xtl'])\n",
    "    ytl=float(obj['ytl'])\n",
    "    xbr=float(obj['xbr'])\n",
    "    ybr=float(obj['ybr'])\n",
    "    \n",
    "    return [xtl,ytl,xbr,ybr]"
   ]
  },
  {
   "cell_type": "code",
   "execution_count": 3,
   "id": "8afe3151",
   "metadata": {},
   "outputs": [],
   "source": [
    "def generate_label(obj):\n",
    "    if obj['occluded']==\"0\":\n",
    "        return 0\n",
    "    elif obj['occluded']==\"1\":\n",
    "        return 1\n",
    "    "
   ]
  },
  {
   "cell_type": "code",
   "execution_count": 4,
   "id": "71ece815",
   "metadata": {},
   "outputs": [],
   "source": [
    "def generate_target(img_path):\n",
    "    img_name=img_path[-17:]\n",
    "    xml_path=glob.glob(img_path[:-17]+\"*.xml\")\n",
    "    xml_file=xml_path[0]\n",
    "    \n",
    "    f=open(xml_file,'rt',encoding='UTF-8')\n",
    "    soup=BeautifulSoup(f,\"lxml\")\n",
    "    \n",
    "    img_tag=soup.find(\"image\",{\"name\":img_name})\n",
    "    bicycle_tag=img_tag.find_all(\"box\",{\"label\":\"bicycle\"})\n",
    "    boxes=[]\n",
    "    labels=[]\n",
    "    \n",
    "    for i in bicycle_tag:\n",
    "        boxes.append(generate_box(i))\n",
    "        labels.append(generate_label(i))\n",
    "        \n",
    "    boxes=torch.as_tensor(boxes,dtype=torch.float32)\n",
    "    labels=torch.as_tensor(labels,dtype=torch.int64)\n",
    "    \n",
    "    target={}\n",
    "    target[\"boxes\"]=boxes\n",
    "    target[\"labels\"]=labels\n",
    "    \n",
    "    return target\n"
   ]
  },
  {
   "cell_type": "code",
   "execution_count": 5,
   "id": "d1c0a23b",
   "metadata": {},
   "outputs": [],
   "source": [
    "def plot_image(img,annotation):\n",
    "    img=img.permute(1,2,0)\n",
    "    \n",
    "    fig,ax=plt.subplots(1)\n",
    "    #rects=[]\n",
    "    ax.imshow(img)\n",
    "    for idx in range(len(annotation[\"boxes\"])):\n",
    "        xtl,ytl,xbr,ybr=annotation[\"boxes\"][idx]\n",
    "        \n",
    "        if annotation[\"labels\"][idx]==0:\n",
    "            rect=patches.Rectangle((xtl,ytl),(xbr-xtl),(ybr-ytl),linewidth=2,edgecolor='g',facecolor='none')\n",
    "        else: #annotation[\"labels\"]==1\n",
    "            rect=patches.Rectangle((xtl,ytl),(xbr-xtl),(ybr-ytl),linewidth=2,edgecolor='r',facecolor='none')\n",
    "        \n",
    "        ax.add_patch(rect)\n",
    "    \n",
    "        #rects.append(rect)\n",
    "    \n",
    "    #return img,rects\n",
    "    plt.show()         \n",
    "    "
   ]
  },
  {
   "cell_type": "code",
   "execution_count": 6,
   "id": "10ab5024",
   "metadata": {},
   "outputs": [],
   "source": [
    "#xml 주소 리스트 반환\n",
    "def xml_list(start,end): #start~end 폴더 번호\n",
    "    s=r'G:/walking_video/bounding_box/Bbox_'\n",
    "    xml_list=[]\n",
    "    for i in range(start,end+1):\n",
    "        path=s+str(i).zfill(4)+\"/*.xml\"\n",
    "        file=glob.glob(path)\n",
    "        xml_list.append(file[0]) #경로당 xml파일 1개이기때문\n",
    "    \n",
    "    return xml_list"
   ]
  },
  {
   "cell_type": "code",
   "execution_count": 7,
   "id": "0b342595",
   "metadata": {},
   "outputs": [],
   "source": [
    "#해당 객체 있는 bicycle 이미지 주소 반환\n",
    "def img_list(xml_list):\n",
    "    \n",
    "    imgs=[]\n",
    "    for xml in xml_list:\n",
    "        f=open(xml,'rt',encoding='UTF-8')\n",
    "        soup=BeautifulSoup(f,\"lxml\")\n",
    "        object_list=soup.find_all(\"box\",{\"label\":\"bicycle\"})\n",
    "        \n",
    "        for i in range(len(object_list)):\n",
    "            #경로에 따라 슬라이싱 재조정 필요\n",
    "            path=xml[:40]+(object_list[i].parent)[\"name\"]\n",
    "            #imgs.append(object_list[i].parent)\n",
    "            imgs.append(path)\n",
    "        \n",
    "        f.close()\n",
    "            \n",
    "    imgs=list(set(imgs)) #set으로 중복 제거후 list로 다시 형 변환\n",
    "\n",
    "    \n",
    "    return imgs\n",
    "    "
   ]
  },
  {
   "cell_type": "code",
   "execution_count": 8,
   "id": "81500523",
   "metadata": {},
   "outputs": [],
   "source": [
    "class AlbumentationDataset(Dataset):\n",
    "    def __init__(self,img_list,transform=None):\n",
    "        #img_list: 이미지 경로명 리스트\n",
    "        self.imgs=img_list\n",
    "        self.transform=transform\n",
    "        \n",
    "    def __len__(self):\n",
    "        return len(self.imgs)\n",
    "    \n",
    "    def __getitem__(self,idx):\n",
    "        img_path=self.imgs[idx]\n",
    "        image=cv2.imread(img_path)\n",
    "        image=cv2.cvtColor(image,cv2.COLOR_BGR2RGB)\n",
    "        \n",
    "        target=generate_target(img_path)\n",
    "        \n",
    "        #albumentation\n",
    "        if self.transform:\n",
    "            transformed=self.transform(image=image,bboxes=target['boxes'],labels=target['labels'])\n",
    "            image=transformed['image']\n",
    "            target={'boxes':transformed['bboxes'],'labels':transformed['labels']}\n",
    "            \n",
    "        target['boxes']=torch.as_tensor(target['boxes'],dtype=torch.float32)\n",
    "        target['labels']=torch.as_tensor(target['labels'],dtype=torch.int64)\n",
    "        \n",
    "\n",
    "        #normalize\n",
    "        image=image.float()\n",
    "        image=image/255\n",
    "        return image,target\n",
    "    \n",
    "def collate_fn(batch):\n",
    "    return tuple(zip(*batch))"
   ]
  },
  {
   "cell_type": "code",
   "execution_count": 9,
   "id": "6ada4bf5",
   "metadata": {},
   "outputs": [],
   "source": [
    "albumentations_transform=albumentations.Compose([\n",
    "    #albumentations.Resize(300,300),\n",
    "    albumentations.RandomSizedBBoxSafeCrop(width=300,height=300,erosion_rate=0.1),\n",
    "    #albumentations.Normalize(mean=(0.485,0.456,0.406),std=(0.229,0.224,0.225)),\n",
    "    #albumentations.Rotate(p=1),\n",
    "    albumentations.HorizontalFlip(p=1),\n",
    "    albumentations.pytorch.transforms.ToTensorV2()],\n",
    "    bbox_params=albumentations.BboxParams(format='pascal_voc',label_fields=['labels']),\n",
    ")"
   ]
  },
  {
   "cell_type": "code",
   "execution_count": 31,
   "id": "a4213808",
   "metadata": {
    "scrolled": true
   },
   "outputs": [
    {
     "name": "stdout",
     "output_type": "stream",
     "text": [
      "['G:/walking_video/bounding_box/Bbox_0001\\\\MP_SEL_000053.jpg', 'G:/walking_video/bounding_box/Bbox_0001\\\\MP_SEL_000160.jpg', 'G:/walking_video/bounding_box/Bbox_0001\\\\MP_SEL_000188.jpg', 'G:/walking_video/bounding_box/Bbox_0001\\\\MP_SEL_000064.jpg', 'G:/walking_video/bounding_box/Bbox_0001\\\\MP_SEL_000150.jpg', 'G:/walking_video/bounding_box/Bbox_0001\\\\MP_SEL_000140.jpg', 'G:/walking_video/bounding_box/Bbox_0001\\\\MP_SEL_000080.jpg', 'G:/walking_video/bounding_box/Bbox_0001\\\\MP_SEL_000189.jpg', 'G:/walking_video/bounding_box/Bbox_0001\\\\MP_SEL_000142.jpg']\n",
      "torch.Size([3, 300, 300])\n",
      "torch.FloatTensor\n",
      "tensor([[[0.8431, 0.8392, 0.8275,  ..., 0.8667, 0.8667, 0.8588],\n",
      "         [0.8627, 0.8549, 0.8392,  ..., 0.8667, 0.8667, 0.8588],\n",
      "         [0.8510, 0.8588, 0.8471,  ..., 0.8627, 0.8627, 0.8588],\n",
      "         ...,\n",
      "         [0.7804, 0.7843, 0.7686,  ..., 0.6353, 0.6510, 0.6667],\n",
      "         [0.7059, 0.6706, 0.6549,  ..., 0.7216, 0.7490, 0.7216],\n",
      "         [0.6510, 0.6510, 0.6431,  ..., 0.7725, 0.7922, 0.8039]],\n",
      "\n",
      "        [[0.8510, 0.8471, 0.8353,  ..., 0.8863, 0.8863, 0.8784],\n",
      "         [0.8706, 0.8627, 0.8471,  ..., 0.8863, 0.8863, 0.8784],\n",
      "         [0.8588, 0.8667, 0.8549,  ..., 0.8784, 0.8824, 0.8784],\n",
      "         ...,\n",
      "         [0.6235, 0.6314, 0.6196,  ..., 0.5451, 0.5569, 0.5686],\n",
      "         [0.5451, 0.5176, 0.5098,  ..., 0.6118, 0.6353, 0.6118],\n",
      "         [0.4902, 0.4941, 0.4941,  ..., 0.6392, 0.6588, 0.6706]],\n",
      "\n",
      "        [[0.8314, 0.8275, 0.8157,  ..., 0.8706, 0.8706, 0.8627],\n",
      "         [0.8510, 0.8431, 0.8275,  ..., 0.8706, 0.8706, 0.8627],\n",
      "         [0.8392, 0.8471, 0.8353,  ..., 0.8667, 0.8667, 0.8627],\n",
      "         ...,\n",
      "         [0.5255, 0.5294, 0.5176,  ..., 0.4471, 0.4588, 0.4745],\n",
      "         [0.4588, 0.4196, 0.4118,  ..., 0.4980, 0.5216, 0.5020],\n",
      "         [0.4039, 0.4039, 0.4039,  ..., 0.5176, 0.5412, 0.5569]]])\n",
      "{'boxes': tensor([[105.9624, 103.3208, 140.0336, 136.5810]]), 'labels': tensor([0])}\n"
     ]
    },
    {
     "data": {
      "image/png": "[encoded data removed]",
      "text/plain": [
       "<Figure size 432x288 with 1 Axes>"
      ]
     },
     "metadata": {
      "needs_background": "light"
     },
     "output_type": "display_data"
    }
   ],
   "source": [
    "#albumentation test\n",
    "xml=xml_list(1,1)\n",
    "imgs=img_list(xml)\n",
    "print(imgs)\n",
    "albumentation_dataset=AlbumentationDataset(img_list=imgs,transform=albumentations_transform)\n",
    "\n",
    "img,annot=albumentation_dataset[4]\n",
    "print(img.size())\n",
    "print(img.type())\n",
    "print(img)\n",
    "print(annot)\n",
    "plot_image(img,annot)"
   ]
  },
  {
   "cell_type": "code",
   "execution_count": null,
   "id": "a3f7887f",
   "metadata": {
    "scrolled": false
   },
   "outputs": [],
   "source": [
    "# type test\n",
    "print(type(img))\n"
   ]
  },
  {
   "cell_type": "code",
   "execution_count": null,
   "id": "5b91781f",
   "metadata": {},
   "outputs": [],
   "source": [
    "from collections import Counter\n",
    "\n",
    "def get_num_objects_for_each_class(dataset):\n",
    "    \n",
    "    total_labels=[]\n",
    "    for img,annot in tqdm(dataset,position=0,leave=True):\n",
    "        total_labels+=[int(i) for i in annot['labels']]\n",
    "        \n",
    "    return Counter(total_labels)"
   ]
  },
  {
   "cell_type": "code",
   "execution_count": 10,
   "id": "aaa2089b",
   "metadata": {},
   "outputs": [],
   "source": [
    "def zero_box_check(dataset):\n",
    "    \n",
    "    zero_torch=torch.randn(0)\n",
    "    img_idx=[]\n",
    "    index=0\n",
    "    for img,annot in dataset:\n",
    "        box=annot['boxes']\n",
    "        if box.size()==zero_torch.shape:\n",
    "            #print(img)\n",
    "            #print(annot)\n",
    "            #plot_image(img,annot)\n",
    "            img_idx.append(index)\n",
    "    \n",
    "        index+=1\n",
    "        \n",
    "    return img_idx\n",
    "        "
   ]
  },
  {
   "cell_type": "code",
   "execution_count": 11,
   "id": "bd9c6eb4",
   "metadata": {},
   "outputs": [],
   "source": [
    "data_xml_list=xml_list(1,300)\n",
    "data_img_list=img_list(data_xml_list)"
   ]
  },
  {
   "cell_type": "code",
   "execution_count": null,
   "id": "8ef3e195",
   "metadata": {},
   "outputs": [],
   "source": [
    "#img path check\n",
    "for img in tqdm(data_img_list):\n",
    "    if not os.path.isfile(img):\n",
    "        print(img)\n",
    "        \n",
    "    "
   ]
  },
  {
   "cell_type": "code",
   "execution_count": 12,
   "id": "2efea77d",
   "metadata": {},
   "outputs": [],
   "source": [
    "dataset=AlbumentationDataset(img_list=data_img_list,transform=albumentations_transform)\n",
    "data_loader=torch.utils.data.DataLoader(dataset,batch_size=8, collate_fn=collate_fn)"
   ]
  },
  {
   "cell_type": "code",
   "execution_count": null,
   "id": "b58ce406",
   "metadata": {},
   "outputs": [],
   "source": [
    "#box data check\n",
    "zero_index=zero_box_check(dataset)\n",
    "for idx in zero_index:\n",
    "    print(data_img_list[idx])\n",
    " "
   ]
  },
  {
   "cell_type": "code",
   "execution_count": 16,
   "id": "d9778730",
   "metadata": {
    "scrolled": false
   },
   "outputs": [
    {
     "name": "stderr",
     "output_type": "stream",
     "text": [
      "100%|██████████████████████████████████████████████████████████████████████████████| 7215/7215 [13:22<00:00,  8.99it/s]"
     ]
    },
    {
     "name": "stdout",
     "output_type": "stream",
     "text": [
      "Counter({1: 7054, 0: 3978})\n"
     ]
    },
    {
     "name": "stderr",
     "output_type": "stream",
     "text": [
      "\n"
     ]
    }
   ],
   "source": [
    "train_objects=get_num_objects_for_each_class(dataset)\n",
    "print(train_objects)"
   ]
  },
  {
   "cell_type": "code",
   "execution_count": 14,
   "id": "176e523c",
   "metadata": {},
   "outputs": [],
   "source": [
    "retina=torchvision.models.detection.retinanet_resnet50_fpn(num_classes=1,pretrained=False,pretrained_backbone=True)\n"
   ]
  },
  {
   "cell_type": "code",
   "execution_count": 34,
   "id": "bea66b7c",
   "metadata": {
    "scrolled": false
   },
   "outputs": [],
   "source": [
    "#torch.cuda.is_available()\n",
    "torch.cuda.empty_cache()"
   ]
  },
  {
   "cell_type": "code",
   "execution_count": 14,
   "id": "557e491f",
   "metadata": {
    "scrolled": true
   },
   "outputs": [
    {
     "name": "stderr",
     "output_type": "stream",
     "text": [
      "  0%|                                                                                          | 0/902 [00:00<?, ?it/s]C:\\Users\\SeongJin\\anaconda3\\envs\\capstone\\lib\\site-packages\\torch\\functional.py:445: UserWarning: torch.meshgrid: in an upcoming release, it will be required to pass the indexing argument. (Triggered internally at  ..\\aten\\src\\ATen\\native\\TensorShape.cpp:2157.)\n",
      "  return _VF.meshgrid(tensors, **kwargs)  # type: ignore[attr-defined]\n",
      "100%|████████████████████████████████████████████████████████████████████████████████| 902/902 [16:58<00:00,  1.13s/it]\n"
     ]
    },
    {
     "name": "stdout",
     "output_type": "stream",
     "text": [
      "0 tensor(1220.4576, device='cuda:0', grad_fn=<AddBackward0>) time: 1018.5726096630096\n"
     ]
    },
    {
     "name": "stderr",
     "output_type": "stream",
     "text": [
      "100%|████████████████████████████████████████████████████████████████████████████████| 902/902 [16:51<00:00,  1.12s/it]\n"
     ]
    },
    {
     "name": "stdout",
     "output_type": "stream",
     "text": [
      "1 tensor(837.1962, device='cuda:0', grad_fn=<AddBackward0>) time: 1011.6122512817383\n"
     ]
    },
    {
     "name": "stderr",
     "output_type": "stream",
     "text": [
      "100%|████████████████████████████████████████████████████████████████████████████████| 902/902 [16:47<00:00,  1.12s/it]\n"
     ]
    },
    {
     "name": "stdout",
     "output_type": "stream",
     "text": [
      "2 tensor(743.5483, device='cuda:0', grad_fn=<AddBackward0>) time: 1007.5946116447449\n"
     ]
    },
    {
     "name": "stderr",
     "output_type": "stream",
     "text": [
      "100%|████████████████████████████████████████████████████████████████████████████████| 902/902 [16:40<00:00,  1.11s/it]\n"
     ]
    },
    {
     "name": "stdout",
     "output_type": "stream",
     "text": [
      "3 tensor(706.1119, device='cuda:0', grad_fn=<AddBackward0>) time: 1001.0147683620453\n"
     ]
    },
    {
     "name": "stderr",
     "output_type": "stream",
     "text": [
      "100%|████████████████████████████████████████████████████████████████████████████████| 902/902 [16:40<00:00,  1.11s/it]\n"
     ]
    },
    {
     "name": "stdout",
     "output_type": "stream",
     "text": [
      "4 tensor(666.9321, device='cuda:0', grad_fn=<AddBackward0>) time: 1000.6459901332855\n"
     ]
    },
    {
     "name": "stderr",
     "output_type": "stream",
     "text": [
      "100%|████████████████████████████████████████████████████████████████████████████████| 902/902 [16:41<00:00,  1.11s/it]\n"
     ]
    },
    {
     "name": "stdout",
     "output_type": "stream",
     "text": [
      "5 tensor(653.2440, device='cuda:0', grad_fn=<AddBackward0>) time: 1001.4747731685638\n"
     ]
    },
    {
     "name": "stderr",
     "output_type": "stream",
     "text": [
      "100%|████████████████████████████████████████████████████████████████████████████████| 902/902 [16:43<00:00,  1.11s/it]\n"
     ]
    },
    {
     "name": "stdout",
     "output_type": "stream",
     "text": [
      "6 tensor(648.3578, device='cuda:0', grad_fn=<AddBackward0>) time: 1003.8463144302368\n"
     ]
    },
    {
     "name": "stderr",
     "output_type": "stream",
     "text": [
      "100%|████████████████████████████████████████████████████████████████████████████████| 902/902 [16:44<00:00,  1.11s/it]\n"
     ]
    },
    {
     "name": "stdout",
     "output_type": "stream",
     "text": [
      "7 tensor(606.1423, device='cuda:0', grad_fn=<AddBackward0>) time: 1004.7116496562958\n"
     ]
    },
    {
     "name": "stderr",
     "output_type": "stream",
     "text": [
      "100%|████████████████████████████████████████████████████████████████████████████████| 902/902 [16:44<00:00,  1.11s/it]\n"
     ]
    },
    {
     "name": "stdout",
     "output_type": "stream",
     "text": [
      "8 tensor(586.1866, device='cuda:0', grad_fn=<AddBackward0>) time: 1004.8556160926819\n"
     ]
    },
    {
     "name": "stderr",
     "output_type": "stream",
     "text": [
      "100%|████████████████████████████████████████████████████████████████████████████████| 902/902 [16:44<00:00,  1.11s/it]\n"
     ]
    },
    {
     "name": "stdout",
     "output_type": "stream",
     "text": [
      "9 tensor(580.5571, device='cuda:0', grad_fn=<AddBackward0>) time: 1004.4081149101257\n"
     ]
    },
    {
     "name": "stderr",
     "output_type": "stream",
     "text": [
      "100%|████████████████████████████████████████████████████████████████████████████████| 902/902 [16:44<00:00,  1.11s/it]\n"
     ]
    },
    {
     "name": "stdout",
     "output_type": "stream",
     "text": [
      "10 tensor(569.7542, device='cuda:0', grad_fn=<AddBackward0>) time: 1004.4736943244934\n"
     ]
    },
    {
     "name": "stderr",
     "output_type": "stream",
     "text": [
      "100%|████████████████████████████████████████████████████████████████████████████████| 902/902 [16:44<00:00,  1.11s/it]\n"
     ]
    },
    {
     "name": "stdout",
     "output_type": "stream",
     "text": [
      "11 tensor(551.3857, device='cuda:0', grad_fn=<AddBackward0>) time: 1005.0403990745544\n"
     ]
    },
    {
     "name": "stderr",
     "output_type": "stream",
     "text": [
      "100%|████████████████████████████████████████████████████████████████████████████████| 902/902 [16:43<00:00,  1.11s/it]\n"
     ]
    },
    {
     "name": "stdout",
     "output_type": "stream",
     "text": [
      "12 tensor(546.1248, device='cuda:0', grad_fn=<AddBackward0>) time: 1003.9997844696045\n"
     ]
    },
    {
     "name": "stderr",
     "output_type": "stream",
     "text": [
      "100%|████████████████████████████████████████████████████████████████████████████████| 902/902 [16:44<00:00,  1.11s/it]\n"
     ]
    },
    {
     "name": "stdout",
     "output_type": "stream",
     "text": [
      "13 tensor(540.4808, device='cuda:0', grad_fn=<AddBackward0>) time: 1004.6510009765625\n"
     ]
    },
    {
     "name": "stderr",
     "output_type": "stream",
     "text": [
      "100%|████████████████████████████████████████████████████████████████████████████████| 902/902 [16:42<00:00,  1.11s/it]\n"
     ]
    },
    {
     "name": "stdout",
     "output_type": "stream",
     "text": [
      "14 tensor(530.0920, device='cuda:0', grad_fn=<AddBackward0>) time: 1002.1472208499908\n"
     ]
    },
    {
     "name": "stderr",
     "output_type": "stream",
     "text": [
      "100%|████████████████████████████████████████████████████████████████████████████████| 902/902 [16:43<00:00,  1.11s/it]\n"
     ]
    },
    {
     "name": "stdout",
     "output_type": "stream",
     "text": [
      "15 tensor(520.2557, device='cuda:0', grad_fn=<AddBackward0>) time: 1003.2694883346558\n"
     ]
    },
    {
     "name": "stderr",
     "output_type": "stream",
     "text": [
      "100%|████████████████████████████████████████████████████████████████████████████████| 902/902 [16:44<00:00,  1.11s/it]\n"
     ]
    },
    {
     "name": "stdout",
     "output_type": "stream",
     "text": [
      "16 tensor(509.6751, device='cuda:0', grad_fn=<AddBackward0>) time: 1004.4945554733276\n"
     ]
    },
    {
     "name": "stderr",
     "output_type": "stream",
     "text": [
      "100%|████████████████████████████████████████████████████████████████████████████████| 902/902 [16:47<00:00,  1.12s/it]\n"
     ]
    },
    {
     "name": "stdout",
     "output_type": "stream",
     "text": [
      "17 tensor(505.5773, device='cuda:0', grad_fn=<AddBackward0>) time: 1007.6788003444672\n"
     ]
    },
    {
     "name": "stderr",
     "output_type": "stream",
     "text": [
      "100%|████████████████████████████████████████████████████████████████████████████████| 902/902 [16:43<00:00,  1.11s/it]\n"
     ]
    },
    {
     "name": "stdout",
     "output_type": "stream",
     "text": [
      "18 tensor(496.6251, device='cuda:0', grad_fn=<AddBackward0>) time: 1003.6163847446442\n"
     ]
    },
    {
     "name": "stderr",
     "output_type": "stream",
     "text": [
      "100%|████████████████████████████████████████████████████████████████████████████████| 902/902 [16:44<00:00,  1.11s/it]\n"
     ]
    },
    {
     "name": "stdout",
     "output_type": "stream",
     "text": [
      "19 tensor(496.6561, device='cuda:0', grad_fn=<AddBackward0>) time: 1004.2529702186584\n"
     ]
    },
    {
     "name": "stderr",
     "output_type": "stream",
     "text": [
      "100%|████████████████████████████████████████████████████████████████████████████████| 902/902 [16:44<00:00,  1.11s/it]\n"
     ]
    },
    {
     "name": "stdout",
     "output_type": "stream",
     "text": [
      "20 tensor(483.8684, device='cuda:0', grad_fn=<AddBackward0>) time: 1004.5293769836426\n"
     ]
    },
    {
     "name": "stderr",
     "output_type": "stream",
     "text": [
      "100%|████████████████████████████████████████████████████████████████████████████████| 902/902 [16:44<00:00,  1.11s/it]\n"
     ]
    },
    {
     "name": "stdout",
     "output_type": "stream",
     "text": [
      "21 tensor(477.7658, device='cuda:0', grad_fn=<AddBackward0>) time: 1004.8297100067139\n"
     ]
    },
    {
     "name": "stderr",
     "output_type": "stream",
     "text": [
      "100%|████████████████████████████████████████████████████████████████████████████████| 902/902 [16:45<00:00,  1.11s/it]\n"
     ]
    },
    {
     "name": "stdout",
     "output_type": "stream",
     "text": [
      "22 tensor(472.7289, device='cuda:0', grad_fn=<AddBackward0>) time: 1005.6513824462891\n"
     ]
    },
    {
     "name": "stderr",
     "output_type": "stream",
     "text": [
      "100%|████████████████████████████████████████████████████████████████████████████████| 902/902 [16:45<00:00,  1.11s/it]\n"
     ]
    },
    {
     "name": "stdout",
     "output_type": "stream",
     "text": [
      "23 tensor(473.3178, device='cuda:0', grad_fn=<AddBackward0>) time: 1005.1341228485107\n"
     ]
    },
    {
     "name": "stderr",
     "output_type": "stream",
     "text": [
      "100%|████████████████████████████████████████████████████████████████████████████████| 902/902 [16:46<00:00,  1.12s/it]\n"
     ]
    },
    {
     "name": "stdout",
     "output_type": "stream",
     "text": [
      "24 tensor(467.1088, device='cuda:0', grad_fn=<AddBackward0>) time: 1006.2447655200958\n"
     ]
    },
    {
     "name": "stderr",
     "output_type": "stream",
     "text": [
      "100%|████████████████████████████████████████████████████████████████████████████████| 902/902 [16:44<00:00,  1.11s/it]\n"
     ]
    },
    {
     "name": "stdout",
     "output_type": "stream",
     "text": [
      "25 tensor(458.1779, device='cuda:0', grad_fn=<AddBackward0>) time: 1004.1112020015717\n"
     ]
    },
    {
     "name": "stderr",
     "output_type": "stream",
     "text": [
      "100%|████████████████████████████████████████████████████████████████████████████████| 902/902 [16:43<00:00,  1.11s/it]\n"
     ]
    },
    {
     "name": "stdout",
     "output_type": "stream",
     "text": [
      "26 tensor(458.3456, device='cuda:0', grad_fn=<AddBackward0>) time: 1004.0478496551514\n"
     ]
    },
    {
     "name": "stderr",
     "output_type": "stream",
     "text": [
      "100%|████████████████████████████████████████████████████████████████████████████████| 902/902 [16:45<00:00,  1.11s/it]\n"
     ]
    },
    {
     "name": "stdout",
     "output_type": "stream",
     "text": [
      "27 tensor(452.6883, device='cuda:0', grad_fn=<AddBackward0>) time: 1005.2474756240845\n"
     ]
    },
    {
     "name": "stderr",
     "output_type": "stream",
     "text": [
      "100%|████████████████████████████████████████████████████████████████████████████████| 902/902 [16:42<00:00,  1.11s/it]\n"
     ]
    },
    {
     "name": "stdout",
     "output_type": "stream",
     "text": [
      "28 tensor(449.6777, device='cuda:0', grad_fn=<AddBackward0>) time: 1002.9287655353546\n"
     ]
    },
    {
     "name": "stderr",
     "output_type": "stream",
     "text": [
      "100%|████████████████████████████████████████████████████████████████████████████████| 902/902 [16:44<00:00,  1.11s/it]\n"
     ]
    },
    {
     "name": "stdout",
     "output_type": "stream",
     "text": [
      "29 tensor(437.3692, device='cuda:0', grad_fn=<AddBackward0>) time: 1004.8129994869232\n"
     ]
    },
    {
     "name": "stderr",
     "output_type": "stream",
     "text": [
      "100%|████████████████████████████████████████████████████████████████████████████████| 902/902 [16:44<00:00,  1.11s/it]\n"
     ]
    },
    {
     "name": "stdout",
     "output_type": "stream",
     "text": [
      "30 tensor(438.2009, device='cuda:0', grad_fn=<AddBackward0>) time: 1004.8481059074402\n"
     ]
    },
    {
     "name": "stderr",
     "output_type": "stream",
     "text": [
      "100%|████████████████████████████████████████████████████████████████████████████████| 902/902 [16:43<00:00,  1.11s/it]\n"
     ]
    },
    {
     "name": "stdout",
     "output_type": "stream",
     "text": [
      "31 tensor(438.6370, device='cuda:0', grad_fn=<AddBackward0>) time: 1003.8775656223297\n"
     ]
    },
    {
     "name": "stderr",
     "output_type": "stream",
     "text": [
      "100%|████████████████████████████████████████████████████████████████████████████████| 902/902 [16:44<00:00,  1.11s/it]\n"
     ]
    },
    {
     "name": "stdout",
     "output_type": "stream",
     "text": [
      "32 tensor(430.7212, device='cuda:0', grad_fn=<AddBackward0>) time: 1004.5796811580658\n"
     ]
    },
    {
     "name": "stderr",
     "output_type": "stream",
     "text": [
      "100%|████████████████████████████████████████████████████████████████████████████████| 902/902 [16:45<00:00,  1.11s/it]\n"
     ]
    },
    {
     "name": "stdout",
     "output_type": "stream",
     "text": [
      "33 tensor(429.7380, device='cuda:0', grad_fn=<AddBackward0>) time: 1005.445876121521\n"
     ]
    },
    {
     "name": "stderr",
     "output_type": "stream",
     "text": [
      "100%|████████████████████████████████████████████████████████████████████████████████| 902/902 [16:44<00:00,  1.11s/it]\n"
     ]
    },
    {
     "name": "stdout",
     "output_type": "stream",
     "text": [
      "34 tensor(425.3966, device='cuda:0', grad_fn=<AddBackward0>) time: 1004.1626980304718\n"
     ]
    },
    {
     "name": "stderr",
     "output_type": "stream",
     "text": [
      "100%|████████████████████████████████████████████████████████████████████████████████| 902/902 [16:45<00:00,  1.11s/it]\n"
     ]
    },
    {
     "name": "stdout",
     "output_type": "stream",
     "text": [
      "35 tensor(423.1661, device='cuda:0', grad_fn=<AddBackward0>) time: 1005.502519607544\n"
     ]
    },
    {
     "name": "stderr",
     "output_type": "stream",
     "text": [
      "100%|████████████████████████████████████████████████████████████████████████████████| 902/902 [16:44<00:00,  1.11s/it]\n"
     ]
    },
    {
     "name": "stdout",
     "output_type": "stream",
     "text": [
      "36 tensor(423.3365, device='cuda:0', grad_fn=<AddBackward0>) time: 1005.0836186408997\n"
     ]
    },
    {
     "name": "stderr",
     "output_type": "stream",
     "text": [
      "100%|████████████████████████████████████████████████████████████████████████████████| 902/902 [16:45<00:00,  1.11s/it]\n"
     ]
    },
    {
     "name": "stdout",
     "output_type": "stream",
     "text": [
      "37 tensor(421.7058, device='cuda:0', grad_fn=<AddBackward0>) time: 1005.3378708362579\n"
     ]
    },
    {
     "name": "stderr",
     "output_type": "stream",
     "text": [
      "100%|████████████████████████████████████████████████████████████████████████████████| 902/902 [16:44<00:00,  1.11s/it]\n"
     ]
    },
    {
     "name": "stdout",
     "output_type": "stream",
     "text": [
      "38 tensor(412.0952, device='cuda:0', grad_fn=<AddBackward0>) time: 1004.6674513816833\n"
     ]
    },
    {
     "name": "stderr",
     "output_type": "stream",
     "text": [
      "100%|████████████████████████████████████████████████████████████████████████████████| 902/902 [16:44<00:00,  1.11s/it]\n"
     ]
    },
    {
     "name": "stdout",
     "output_type": "stream",
     "text": [
      "39 tensor(408.5275, device='cuda:0', grad_fn=<AddBackward0>) time: 1004.5194578170776\n"
     ]
    },
    {
     "name": "stderr",
     "output_type": "stream",
     "text": [
      "100%|████████████████████████████████████████████████████████████████████████████████| 902/902 [16:45<00:00,  1.11s/it]\n"
     ]
    },
    {
     "name": "stdout",
     "output_type": "stream",
     "text": [
      "40 tensor(405.6424, device='cuda:0', grad_fn=<AddBackward0>) time: 1005.3369703292847\n"
     ]
    },
    {
     "name": "stderr",
     "output_type": "stream",
     "text": [
      "100%|████████████████████████████████████████████████████████████████████████████████| 902/902 [16:44<00:00,  1.11s/it]\n"
     ]
    },
    {
     "name": "stdout",
     "output_type": "stream",
     "text": [
      "41 tensor(406.9791, device='cuda:0', grad_fn=<AddBackward0>) time: 1004.3294277191162\n"
     ]
    },
    {
     "name": "stderr",
     "output_type": "stream",
     "text": [
      "100%|████████████████████████████████████████████████████████████████████████████████| 902/902 [16:44<00:00,  1.11s/it]\n"
     ]
    },
    {
     "name": "stdout",
     "output_type": "stream",
     "text": [
      "42 tensor(399.9196, device='cuda:0', grad_fn=<AddBackward0>) time: 1004.5621201992035\n"
     ]
    },
    {
     "name": "stderr",
     "output_type": "stream",
     "text": [
      "100%|████████████████████████████████████████████████████████████████████████████████| 902/902 [16:45<00:00,  1.11s/it]\n"
     ]
    },
    {
     "name": "stdout",
     "output_type": "stream",
     "text": [
      "43 tensor(398.6514, device='cuda:0', grad_fn=<AddBackward0>) time: 1005.4532554149628\n"
     ]
    },
    {
     "name": "stderr",
     "output_type": "stream",
     "text": [
      "100%|████████████████████████████████████████████████████████████████████████████████| 902/902 [16:45<00:00,  1.11s/it]\n"
     ]
    },
    {
     "name": "stdout",
     "output_type": "stream",
     "text": [
      "44 tensor(394.9096, device='cuda:0', grad_fn=<AddBackward0>) time: 1005.339950799942\n"
     ]
    },
    {
     "name": "stderr",
     "output_type": "stream",
     "text": [
      "100%|████████████████████████████████████████████████████████████████████████████████| 902/902 [16:54<00:00,  1.12s/it]\n"
     ]
    },
    {
     "name": "stdout",
     "output_type": "stream",
     "text": [
      "45 tensor(393.8340, device='cuda:0', grad_fn=<AddBackward0>) time: 1014.5692331790924\n"
     ]
    },
    {
     "name": "stderr",
     "output_type": "stream",
     "text": [
      "100%|████████████████████████████████████████████████████████████████████████████████| 902/902 [16:55<00:00,  1.13s/it]\n"
     ]
    },
    {
     "name": "stdout",
     "output_type": "stream",
     "text": [
      "46 tensor(388.9651, device='cuda:0', grad_fn=<AddBackward0>) time: 1015.6026773452759\n"
     ]
    },
    {
     "name": "stderr",
     "output_type": "stream",
     "text": [
      "100%|████████████████████████████████████████████████████████████████████████████████| 902/902 [16:42<00:00,  1.11s/it]\n"
     ]
    },
    {
     "name": "stdout",
     "output_type": "stream",
     "text": [
      "47 tensor(389.4473, device='cuda:0', grad_fn=<AddBackward0>) time: 1002.6626167297363\n"
     ]
    },
    {
     "name": "stderr",
     "output_type": "stream",
     "text": [
      "100%|████████████████████████████████████████████████████████████████████████████████| 902/902 [16:44<00:00,  1.11s/it]\n"
     ]
    },
    {
     "name": "stdout",
     "output_type": "stream",
     "text": [
      "48 tensor(386.2100, device='cuda:0', grad_fn=<AddBackward0>) time: 1004.4876036643982\n"
     ]
    },
    {
     "name": "stderr",
     "output_type": "stream",
     "text": [
      "100%|████████████████████████████████████████████████████████████████████████████████| 902/902 [16:44<00:00,  1.11s/it]\n"
     ]
    },
    {
     "name": "stdout",
     "output_type": "stream",
     "text": [
      "49 tensor(383.9817, device='cuda:0', grad_fn=<AddBackward0>) time: 1004.7299582958221\n"
     ]
    },
    {
     "name": "stderr",
     "output_type": "stream",
     "text": [
      "100%|████████████████████████████████████████████████████████████████████████████████| 902/902 [16:45<00:00,  1.11s/it]\n"
     ]
    },
    {
     "name": "stdout",
     "output_type": "stream",
     "text": [
      "50 tensor(381.2186, device='cuda:0', grad_fn=<AddBackward0>) time: 1005.4892017841339\n"
     ]
    },
    {
     "name": "stderr",
     "output_type": "stream",
     "text": [
      "100%|████████████████████████████████████████████████████████████████████████████████| 902/902 [16:45<00:00,  1.11s/it]\n"
     ]
    },
    {
     "name": "stdout",
     "output_type": "stream",
     "text": [
      "51 tensor(381.9403, device='cuda:0', grad_fn=<AddBackward0>) time: 1005.4726011753082\n"
     ]
    },
    {
     "name": "stderr",
     "output_type": "stream",
     "text": [
      "100%|████████████████████████████████████████████████████████████████████████████████| 902/902 [16:54<00:00,  1.12s/it]\n"
     ]
    },
    {
     "name": "stdout",
     "output_type": "stream",
     "text": [
      "52 tensor(374.0433, device='cuda:0', grad_fn=<AddBackward0>) time: 1014.5405333042145\n"
     ]
    },
    {
     "name": "stderr",
     "output_type": "stream",
     "text": [
      "100%|████████████████████████████████████████████████████████████████████████████████| 902/902 [16:50<00:00,  1.12s/it]\n"
     ]
    },
    {
     "name": "stdout",
     "output_type": "stream",
     "text": [
      "53 tensor(374.8793, device='cuda:0', grad_fn=<AddBackward0>) time: 1010.2689476013184\n"
     ]
    },
    {
     "name": "stderr",
     "output_type": "stream",
     "text": [
      "100%|████████████████████████████████████████████████████████████████████████████████| 902/902 [16:43<00:00,  1.11s/it]\n"
     ]
    },
    {
     "name": "stdout",
     "output_type": "stream",
     "text": [
      "54 tensor(369.6018, device='cuda:0', grad_fn=<AddBackward0>) time: 1003.8754980564117\n"
     ]
    },
    {
     "name": "stderr",
     "output_type": "stream",
     "text": [
      "100%|████████████████████████████████████████████████████████████████████████████████| 902/902 [16:44<00:00,  1.11s/it]\n"
     ]
    },
    {
     "name": "stdout",
     "output_type": "stream",
     "text": [
      "55 tensor(370.3784, device='cuda:0', grad_fn=<AddBackward0>) time: 1004.6445460319519\n"
     ]
    },
    {
     "name": "stderr",
     "output_type": "stream",
     "text": [
      "100%|████████████████████████████████████████████████████████████████████████████████| 902/902 [16:45<00:00,  1.11s/it]\n"
     ]
    },
    {
     "name": "stdout",
     "output_type": "stream",
     "text": [
      "56 tensor(371.1001, device='cuda:0', grad_fn=<AddBackward0>) time: 1005.3648116588593\n"
     ]
    },
    {
     "name": "stderr",
     "output_type": "stream",
     "text": [
      "100%|████████████████████████████████████████████████████████████████████████████████| 902/902 [16:45<00:00,  1.11s/it]\n"
     ]
    },
    {
     "name": "stdout",
     "output_type": "stream",
     "text": [
      "57 tensor(366.6928, device='cuda:0', grad_fn=<AddBackward0>) time: 1005.5477442741394\n"
     ]
    },
    {
     "name": "stderr",
     "output_type": "stream",
     "text": [
      "100%|████████████████████████████████████████████████████████████████████████████████| 902/902 [16:43<00:00,  1.11s/it]\n"
     ]
    },
    {
     "name": "stdout",
     "output_type": "stream",
     "text": [
      "58 tensor(362.8788, device='cuda:0', grad_fn=<AddBackward0>) time: 1003.3379888534546\n"
     ]
    },
    {
     "name": "stderr",
     "output_type": "stream",
     "text": [
      "100%|████████████████████████████████████████████████████████████████████████████████| 902/902 [17:02<00:00,  1.13s/it]\n"
     ]
    },
    {
     "name": "stdout",
     "output_type": "stream",
     "text": [
      "59 tensor(363.7019, device='cuda:0', grad_fn=<AddBackward0>) time: 1022.9208652973175\n"
     ]
    },
    {
     "name": "stderr",
     "output_type": "stream",
     "text": [
      "100%|████████████████████████████████████████████████████████████████████████████████| 902/902 [16:43<00:00,  1.11s/it]\n"
     ]
    },
    {
     "name": "stdout",
     "output_type": "stream",
     "text": [
      "60 tensor(356.1074, device='cuda:0', grad_fn=<AddBackward0>) time: 1003.3031461238861\n"
     ]
    },
    {
     "name": "stderr",
     "output_type": "stream",
     "text": [
      "100%|████████████████████████████████████████████████████████████████████████████████| 902/902 [16:41<00:00,  1.11s/it]\n"
     ]
    },
    {
     "name": "stdout",
     "output_type": "stream",
     "text": [
      "61 tensor(364.3381, device='cuda:0', grad_fn=<AddBackward0>) time: 1001.4426155090332\n"
     ]
    },
    {
     "name": "stderr",
     "output_type": "stream",
     "text": [
      "100%|████████████████████████████████████████████████████████████████████████████████| 902/902 [16:43<00:00,  1.11s/it]\n"
     ]
    },
    {
     "name": "stdout",
     "output_type": "stream",
     "text": [
      "62 tensor(358.0913, device='cuda:0', grad_fn=<AddBackward0>) time: 1003.13623046875\n"
     ]
    },
    {
     "name": "stderr",
     "output_type": "stream",
     "text": [
      "100%|████████████████████████████████████████████████████████████████████████████████| 902/902 [16:42<00:00,  1.11s/it]\n"
     ]
    },
    {
     "name": "stdout",
     "output_type": "stream",
     "text": [
      "63 tensor(353.4533, device='cuda:0', grad_fn=<AddBackward0>) time: 1002.1380450725555\n"
     ]
    },
    {
     "name": "stderr",
     "output_type": "stream",
     "text": [
      "100%|████████████████████████████████████████████████████████████████████████████████| 902/902 [16:42<00:00,  1.11s/it]\n"
     ]
    },
    {
     "name": "stdout",
     "output_type": "stream",
     "text": [
      "64 tensor(353.0105, device='cuda:0', grad_fn=<AddBackward0>) time: 1002.2731642723083\n"
     ]
    },
    {
     "name": "stderr",
     "output_type": "stream",
     "text": [
      "100%|████████████████████████████████████████████████████████████████████████████████| 902/902 [16:41<00:00,  1.11s/it]\n"
     ]
    },
    {
     "name": "stdout",
     "output_type": "stream",
     "text": [
      "65 tensor(355.3685, device='cuda:0', grad_fn=<AddBackward0>) time: 1001.3518631458282\n"
     ]
    },
    {
     "name": "stderr",
     "output_type": "stream",
     "text": [
      "100%|████████████████████████████████████████████████████████████████████████████████| 902/902 [16:44<00:00,  1.11s/it]\n"
     ]
    },
    {
     "name": "stdout",
     "output_type": "stream",
     "text": [
      "66 tensor(349.4800, device='cuda:0', grad_fn=<AddBackward0>) time: 1004.3231227397919\n"
     ]
    },
    {
     "name": "stderr",
     "output_type": "stream",
     "text": [
      "100%|████████████████████████████████████████████████████████████████████████████████| 902/902 [16:44<00:00,  1.11s/it]\n"
     ]
    },
    {
     "name": "stdout",
     "output_type": "stream",
     "text": [
      "67 tensor(348.3738, device='cuda:0', grad_fn=<AddBackward0>) time: 1004.3925821781158\n"
     ]
    },
    {
     "name": "stderr",
     "output_type": "stream",
     "text": [
      "100%|████████████████████████████████████████████████████████████████████████████████| 902/902 [16:43<00:00,  1.11s/it]\n"
     ]
    },
    {
     "name": "stdout",
     "output_type": "stream",
     "text": [
      "68 tensor(341.7214, device='cuda:0', grad_fn=<AddBackward0>) time: 1003.4584295749664\n"
     ]
    },
    {
     "name": "stderr",
     "output_type": "stream",
     "text": [
      "100%|████████████████████████████████████████████████████████████████████████████████| 902/902 [16:44<00:00,  1.11s/it]\n"
     ]
    },
    {
     "name": "stdout",
     "output_type": "stream",
     "text": [
      "69 tensor(349.2378, device='cuda:0', grad_fn=<AddBackward0>) time: 1004.8635103702545\n"
     ]
    },
    {
     "name": "stderr",
     "output_type": "stream",
     "text": [
      "100%|████████████████████████████████████████████████████████████████████████████████| 902/902 [16:43<00:00,  1.11s/it]\n"
     ]
    },
    {
     "name": "stdout",
     "output_type": "stream",
     "text": [
      "70 tensor(348.8035, device='cuda:0', grad_fn=<AddBackward0>) time: 1003.5091853141785\n"
     ]
    },
    {
     "name": "stderr",
     "output_type": "stream",
     "text": [
      "100%|████████████████████████████████████████████████████████████████████████████████| 902/902 [16:43<00:00,  1.11s/it]\n"
     ]
    },
    {
     "name": "stdout",
     "output_type": "stream",
     "text": [
      "71 tensor(339.5737, device='cuda:0', grad_fn=<AddBackward0>) time: 1003.3032248020172\n"
     ]
    },
    {
     "name": "stderr",
     "output_type": "stream",
     "text": [
      "100%|████████████████████████████████████████████████████████████████████████████████| 902/902 [16:42<00:00,  1.11s/it]\n"
     ]
    },
    {
     "name": "stdout",
     "output_type": "stream",
     "text": [
      "72 tensor(338.4918, device='cuda:0', grad_fn=<AddBackward0>) time: 1002.8345997333527\n"
     ]
    },
    {
     "name": "stderr",
     "output_type": "stream",
     "text": [
      "100%|████████████████████████████████████████████████████████████████████████████████| 902/902 [16:44<00:00,  1.11s/it]\n"
     ]
    },
    {
     "name": "stdout",
     "output_type": "stream",
     "text": [
      "73 tensor(335.6224, device='cuda:0', grad_fn=<AddBackward0>) time: 1004.7988896369934\n"
     ]
    },
    {
     "name": "stderr",
     "output_type": "stream",
     "text": [
      "100%|████████████████████████████████████████████████████████████████████████████████| 902/902 [16:44<00:00,  1.11s/it]\n"
     ]
    },
    {
     "name": "stdout",
     "output_type": "stream",
     "text": [
      "74 tensor(341.9813, device='cuda:0', grad_fn=<AddBackward0>) time: 1004.4539518356323\n"
     ]
    },
    {
     "name": "stderr",
     "output_type": "stream",
     "text": [
      "100%|████████████████████████████████████████████████████████████████████████████████| 902/902 [16:42<00:00,  1.11s/it]\n"
     ]
    },
    {
     "name": "stdout",
     "output_type": "stream",
     "text": [
      "75 tensor(345.9661, device='cuda:0', grad_fn=<AddBackward0>) time: 1002.8432676792145\n"
     ]
    },
    {
     "name": "stderr",
     "output_type": "stream",
     "text": [
      "100%|████████████████████████████████████████████████████████████████████████████████| 902/902 [16:43<00:00,  1.11s/it]\n"
     ]
    },
    {
     "name": "stdout",
     "output_type": "stream",
     "text": [
      "76 tensor(331.3622, device='cuda:0', grad_fn=<AddBackward0>) time: 1003.1585693359375\n"
     ]
    },
    {
     "name": "stderr",
     "output_type": "stream",
     "text": [
      "100%|████████████████████████████████████████████████████████████████████████████████| 902/902 [16:44<00:00,  1.11s/it]\n"
     ]
    },
    {
     "name": "stdout",
     "output_type": "stream",
     "text": [
      "77 tensor(328.8227, device='cuda:0', grad_fn=<AddBackward0>) time: 1004.7957587242126\n"
     ]
    },
    {
     "name": "stderr",
     "output_type": "stream",
     "text": [
      "100%|████████████████████████████████████████████████████████████████████████████████| 902/902 [16:43<00:00,  1.11s/it]\n"
     ]
    },
    {
     "name": "stdout",
     "output_type": "stream",
     "text": [
      "78 tensor(329.5493, device='cuda:0', grad_fn=<AddBackward0>) time: 1003.8754425048828\n"
     ]
    },
    {
     "name": "stderr",
     "output_type": "stream",
     "text": [
      "100%|████████████████████████████████████████████████████████████████████████████████| 902/902 [16:42<00:00,  1.11s/it]\n"
     ]
    },
    {
     "name": "stdout",
     "output_type": "stream",
     "text": [
      "79 tensor(328.7194, device='cuda:0', grad_fn=<AddBackward0>) time: 1002.1860463619232\n"
     ]
    },
    {
     "name": "stderr",
     "output_type": "stream",
     "text": [
      "100%|████████████████████████████████████████████████████████████████████████████████| 902/902 [16:43<00:00,  1.11s/it]\n"
     ]
    },
    {
     "name": "stdout",
     "output_type": "stream",
     "text": [
      "80 tensor(353.3932, device='cuda:0', grad_fn=<AddBackward0>) time: 1003.5589780807495\n"
     ]
    },
    {
     "name": "stderr",
     "output_type": "stream",
     "text": [
      "100%|████████████████████████████████████████████████████████████████████████████████| 902/902 [16:41<00:00,  1.11s/it]\n"
     ]
    },
    {
     "name": "stdout",
     "output_type": "stream",
     "text": [
      "81 tensor(325.7526, device='cuda:0', grad_fn=<AddBackward0>) time: 1002.0201015472412\n"
     ]
    },
    {
     "name": "stderr",
     "output_type": "stream",
     "text": [
      "100%|████████████████████████████████████████████████████████████████████████████████| 902/902 [16:42<00:00,  1.11s/it]\n"
     ]
    },
    {
     "name": "stdout",
     "output_type": "stream",
     "text": [
      "82 tensor(323.5569, device='cuda:0', grad_fn=<AddBackward0>) time: 1002.9319252967834\n"
     ]
    },
    {
     "name": "stderr",
     "output_type": "stream",
     "text": [
      "100%|████████████████████████████████████████████████████████████████████████████████| 902/902 [16:43<00:00,  1.11s/it]\n"
     ]
    },
    {
     "name": "stdout",
     "output_type": "stream",
     "text": [
      "83 tensor(335.9489, device='cuda:0', grad_fn=<AddBackward0>) time: 1003.7485430240631\n"
     ]
    },
    {
     "name": "stderr",
     "output_type": "stream",
     "text": [
      "100%|████████████████████████████████████████████████████████████████████████████████| 902/902 [16:41<00:00,  1.11s/it]\n"
     ]
    },
    {
     "name": "stdout",
     "output_type": "stream",
     "text": [
      "84 tensor(322.8110, device='cuda:0', grad_fn=<AddBackward0>) time: 1001.2744045257568\n"
     ]
    },
    {
     "name": "stderr",
     "output_type": "stream",
     "text": [
      "100%|████████████████████████████████████████████████████████████████████████████████| 902/902 [16:43<00:00,  1.11s/it]\n"
     ]
    },
    {
     "name": "stdout",
     "output_type": "stream",
     "text": [
      "85 tensor(318.1128, device='cuda:0', grad_fn=<AddBackward0>) time: 1003.2831258773804\n"
     ]
    },
    {
     "name": "stderr",
     "output_type": "stream",
     "text": [
      "100%|████████████████████████████████████████████████████████████████████████████████| 902/902 [16:42<00:00,  1.11s/it]\n"
     ]
    },
    {
     "name": "stdout",
     "output_type": "stream",
     "text": [
      "86 tensor(320.3938, device='cuda:0', grad_fn=<AddBackward0>) time: 1002.3509910106659\n"
     ]
    },
    {
     "name": "stderr",
     "output_type": "stream",
     "text": [
      "100%|████████████████████████████████████████████████████████████████████████████████| 902/902 [16:43<00:00,  1.11s/it]\n"
     ]
    },
    {
     "name": "stdout",
     "output_type": "stream",
     "text": [
      "87 tensor(319.3783, device='cuda:0', grad_fn=<AddBackward0>) time: 1003.5156321525574\n"
     ]
    },
    {
     "name": "stderr",
     "output_type": "stream",
     "text": [
      "100%|████████████████████████████████████████████████████████████████████████████████| 902/902 [16:42<00:00,  1.11s/it]\n"
     ]
    },
    {
     "name": "stdout",
     "output_type": "stream",
     "text": [
      "88 tensor(321.0162, device='cuda:0', grad_fn=<AddBackward0>) time: 1002.2728545665741\n"
     ]
    },
    {
     "name": "stderr",
     "output_type": "stream",
     "text": [
      "100%|████████████████████████████████████████████████████████████████████████████████| 902/902 [16:40<00:00,  1.11s/it]\n"
     ]
    },
    {
     "name": "stdout",
     "output_type": "stream",
     "text": [
      "89 tensor(309.8723, device='cuda:0', grad_fn=<AddBackward0>) time: 1000.6647770404816\n"
     ]
    },
    {
     "name": "stderr",
     "output_type": "stream",
     "text": [
      "100%|████████████████████████████████████████████████████████████████████████████████| 902/902 [16:41<00:00,  1.11s/it]\n"
     ]
    },
    {
     "name": "stdout",
     "output_type": "stream",
     "text": [
      "90 tensor(316.8868, device='cuda:0', grad_fn=<AddBackward0>) time: 1001.2161695957184\n"
     ]
    },
    {
     "name": "stderr",
     "output_type": "stream",
     "text": [
      "100%|████████████████████████████████████████████████████████████████████████████████| 902/902 [16:43<00:00,  1.11s/it]\n"
     ]
    },
    {
     "name": "stdout",
     "output_type": "stream",
     "text": [
      "91 tensor(311.7030, device='cuda:0', grad_fn=<AddBackward0>) time: 1003.2787661552429\n"
     ]
    },
    {
     "name": "stderr",
     "output_type": "stream",
     "text": [
      "100%|████████████████████████████████████████████████████████████████████████████████| 902/902 [16:42<00:00,  1.11s/it]\n"
     ]
    },
    {
     "name": "stdout",
     "output_type": "stream",
     "text": [
      "92 tensor(309.6177, device='cuda:0', grad_fn=<AddBackward0>) time: 1002.8982696533203\n"
     ]
    },
    {
     "name": "stderr",
     "output_type": "stream",
     "text": [
      "100%|████████████████████████████████████████████████████████████████████████████████| 902/902 [16:41<00:00,  1.11s/it]\n"
     ]
    },
    {
     "name": "stdout",
     "output_type": "stream",
     "text": [
      "93 tensor(306.6554, device='cuda:0', grad_fn=<AddBackward0>) time: 1002.0390899181366\n"
     ]
    },
    {
     "name": "stderr",
     "output_type": "stream",
     "text": [
      "100%|████████████████████████████████████████████████████████████████████████████████| 902/902 [16:42<00:00,  1.11s/it]\n"
     ]
    },
    {
     "name": "stdout",
     "output_type": "stream",
     "text": [
      "94 tensor(313.0009, device='cuda:0', grad_fn=<AddBackward0>) time: 1002.901346206665\n"
     ]
    },
    {
     "name": "stderr",
     "output_type": "stream",
     "text": [
      "100%|████████████████████████████████████████████████████████████████████████████████| 902/902 [16:42<00:00,  1.11s/it]\n"
     ]
    },
    {
     "name": "stdout",
     "output_type": "stream",
     "text": [
      "95 tensor(301.4178, device='cuda:0', grad_fn=<AddBackward0>) time: 1002.7617225646973\n"
     ]
    },
    {
     "name": "stderr",
     "output_type": "stream",
     "text": [
      "100%|████████████████████████████████████████████████████████████████████████████████| 902/902 [16:44<00:00,  1.11s/it]\n"
     ]
    },
    {
     "name": "stdout",
     "output_type": "stream",
     "text": [
      "96 tensor(306.9067, device='cuda:0', grad_fn=<AddBackward0>) time: 1004.8499994277954\n"
     ]
    },
    {
     "name": "stderr",
     "output_type": "stream",
     "text": [
      "100%|████████████████████████████████████████████████████████████████████████████████| 902/902 [16:42<00:00,  1.11s/it]\n"
     ]
    },
    {
     "name": "stdout",
     "output_type": "stream",
     "text": [
      "97 tensor(306.4856, device='cuda:0', grad_fn=<AddBackward0>) time: 1002.1612238883972\n"
     ]
    },
    {
     "name": "stderr",
     "output_type": "stream",
     "text": [
      "100%|████████████████████████████████████████████████████████████████████████████████| 902/902 [16:42<00:00,  1.11s/it]\n"
     ]
    },
    {
     "name": "stdout",
     "output_type": "stream",
     "text": [
      "98 tensor(302.5596, device='cuda:0', grad_fn=<AddBackward0>) time: 1003.0683786869049\n"
     ]
    },
    {
     "name": "stderr",
     "output_type": "stream",
     "text": [
      "100%|████████████████████████████████████████████████████████████████████████████████| 902/902 [16:43<00:00,  1.11s/it]\n"
     ]
    },
    {
     "name": "stdout",
     "output_type": "stream",
     "text": [
      "99 tensor(302.7413, device='cuda:0', grad_fn=<AddBackward0>) time: 1003.3531684875488\n"
     ]
    }
   ],
   "source": [
    "torch.cuda.empty_cache()\n",
    "device=torch.device('cuda') if torch.cuda.is_available() else torch.device('cpu')\n",
    "num_epochs=100\n",
    "learning_rate=0.001\n",
    "retina.to(device)\n",
    "\n",
    "params=[p for p in retina.parameters() if p.requires_grad]\n",
    "optimizer=torch.optim.SGD(params, lr=learning_rate, momentum=0.9, weight_decay=0.0005)\n",
    "\n",
    "len_dataloader=len(data_loader)\n",
    "\n",
    "\n",
    "for epoch in range(num_epochs):\n",
    "    start=time.time()\n",
    "    retina.train()\n",
    "    \n",
    "    zero=0\n",
    "    i=0\n",
    "    epoch_loss=0\n",
    "    for images, targets in tqdm(data_loader):\n",
    "        images=list(image.to(device) for image in images)\n",
    "        targets=[{k:v.to(device) for k,v in t.items()} for t in targets]\n",
    "        \n",
    "        #print(targets)\n",
    "    \n",
    "        #ignore zero target\n",
    "        zero_torch=torch.randn(0)\n",
    "        if targets[0]['boxes'].size()==zero_torch.shape:\n",
    "            zero+=1\n",
    "            continue\n",
    "        \n",
    "        loss_dict=retina(images,targets)\n",
    "        \n",
    "        losses=sum(loss for loss in loss_dict.values())\n",
    "        \n",
    "        i+=1\n",
    "        \n",
    "        optimizer.zero_grad()\n",
    "        losses.backward()\n",
    "        optimizer.step()\n",
    "        \n",
    "        epoch_loss+=losses\n",
    "        \n",
    "    print(epoch,epoch_loss,f'time: {time.time()-start}')\n",
    "        "
   ]
  },
  {
   "cell_type": "code",
   "execution_count": 15,
   "id": "f608bd09",
   "metadata": {},
   "outputs": [],
   "source": [
    "torch.save(retina.state_dict(),f'retina_{num_epochs}_{learning_rate}.pt')"
   ]
  },
  {
   "cell_type": "code",
   "execution_count": 15,
   "id": "4c7d1de5",
   "metadata": {
    "scrolled": true
   },
   "outputs": [
    {
     "data": {
      "text/plain": [
       "RetinaNet(\n",
       "  (backbone): BackboneWithFPN(\n",
       "    (body): IntermediateLayerGetter(\n",
       "      (conv1): Conv2d(3, 64, kernel_size=(7, 7), stride=(2, 2), padding=(3, 3), bias=False)\n",
       "      (bn1): FrozenBatchNorm2d(64, eps=1e-05)\n",
       "      (relu): ReLU(inplace=True)\n",
       "      (maxpool): MaxPool2d(kernel_size=3, stride=2, padding=1, dilation=1, ceil_mode=False)\n",
       "      (layer1): Sequential(\n",
       "        (0): Bottleneck(\n",
       "          (conv1): Conv2d(64, 64, kernel_size=(1, 1), stride=(1, 1), bias=False)\n",
       "          (bn1): FrozenBatchNorm2d(64, eps=1e-05)\n",
       "          (conv2): Conv2d(64, 64, kernel_size=(3, 3), stride=(1, 1), padding=(1, 1), bias=False)\n",
       "          (bn2): FrozenBatchNorm2d(64, eps=1e-05)\n",
       "          (conv3): Conv2d(64, 256, kernel_size=(1, 1), stride=(1, 1), bias=False)\n",
       "          (bn3): FrozenBatchNorm2d(256, eps=1e-05)\n",
       "          (relu): ReLU(inplace=True)\n",
       "          (downsample): Sequential(\n",
       "            (0): Conv2d(64, 256, kernel_size=(1, 1), stride=(1, 1), bias=False)\n",
       "            (1): FrozenBatchNorm2d(256, eps=1e-05)\n",
       "          )\n",
       "        )\n",
       "        (1): Bottleneck(\n",
       "          (conv1): Conv2d(256, 64, kernel_size=(1, 1), stride=(1, 1), bias=False)\n",
       "          (bn1): FrozenBatchNorm2d(64, eps=1e-05)\n",
       "          (conv2): Conv2d(64, 64, kernel_size=(3, 3), stride=(1, 1), padding=(1, 1), bias=False)\n",
       "          (bn2): FrozenBatchNorm2d(64, eps=1e-05)\n",
       "          (conv3): Conv2d(64, 256, kernel_size=(1, 1), stride=(1, 1), bias=False)\n",
       "          (bn3): FrozenBatchNorm2d(256, eps=1e-05)\n",
       "          (relu): ReLU(inplace=True)\n",
       "        )\n",
       "        (2): Bottleneck(\n",
       "          (conv1): Conv2d(256, 64, kernel_size=(1, 1), stride=(1, 1), bias=False)\n",
       "          (bn1): FrozenBatchNorm2d(64, eps=1e-05)\n",
       "          (conv2): Conv2d(64, 64, kernel_size=(3, 3), stride=(1, 1), padding=(1, 1), bias=False)\n",
       "          (bn2): FrozenBatchNorm2d(64, eps=1e-05)\n",
       "          (conv3): Conv2d(64, 256, kernel_size=(1, 1), stride=(1, 1), bias=False)\n",
       "          (bn3): FrozenBatchNorm2d(256, eps=1e-05)\n",
       "          (relu): ReLU(inplace=True)\n",
       "        )\n",
       "      )\n",
       "      (layer2): Sequential(\n",
       "        (0): Bottleneck(\n",
       "          (conv1): Conv2d(256, 128, kernel_size=(1, 1), stride=(1, 1), bias=False)\n",
       "          (bn1): FrozenBatchNorm2d(128, eps=1e-05)\n",
       "          (conv2): Conv2d(128, 128, kernel_size=(3, 3), stride=(2, 2), padding=(1, 1), bias=False)\n",
       "          (bn2): FrozenBatchNorm2d(128, eps=1e-05)\n",
       "          (conv3): Conv2d(128, 512, kernel_size=(1, 1), stride=(1, 1), bias=False)\n",
       "          (bn3): FrozenBatchNorm2d(512, eps=1e-05)\n",
       "          (relu): ReLU(inplace=True)\n",
       "          (downsample): Sequential(\n",
       "            (0): Conv2d(256, 512, kernel_size=(1, 1), stride=(2, 2), bias=False)\n",
       "            (1): FrozenBatchNorm2d(512, eps=1e-05)\n",
       "          )\n",
       "        )\n",
       "        (1): Bottleneck(\n",
       "          (conv1): Conv2d(512, 128, kernel_size=(1, 1), stride=(1, 1), bias=False)\n",
       "          (bn1): FrozenBatchNorm2d(128, eps=1e-05)\n",
       "          (conv2): Conv2d(128, 128, kernel_size=(3, 3), stride=(1, 1), padding=(1, 1), bias=False)\n",
       "          (bn2): FrozenBatchNorm2d(128, eps=1e-05)\n",
       "          (conv3): Conv2d(128, 512, kernel_size=(1, 1), stride=(1, 1), bias=False)\n",
       "          (bn3): FrozenBatchNorm2d(512, eps=1e-05)\n",
       "          (relu): ReLU(inplace=True)\n",
       "        )\n",
       "        (2): Bottleneck(\n",
       "          (conv1): Conv2d(512, 128, kernel_size=(1, 1), stride=(1, 1), bias=False)\n",
       "          (bn1): FrozenBatchNorm2d(128, eps=1e-05)\n",
       "          (conv2): Conv2d(128, 128, kernel_size=(3, 3), stride=(1, 1), padding=(1, 1), bias=False)\n",
       "          (bn2): FrozenBatchNorm2d(128, eps=1e-05)\n",
       "          (conv3): Conv2d(128, 512, kernel_size=(1, 1), stride=(1, 1), bias=False)\n",
       "          (bn3): FrozenBatchNorm2d(512, eps=1e-05)\n",
       "          (relu): ReLU(inplace=True)\n",
       "        )\n",
       "        (3): Bottleneck(\n",
       "          (conv1): Conv2d(512, 128, kernel_size=(1, 1), stride=(1, 1), bias=False)\n",
       "          (bn1): FrozenBatchNorm2d(128, eps=1e-05)\n",
       "          (conv2): Conv2d(128, 128, kernel_size=(3, 3), stride=(1, 1), padding=(1, 1), bias=False)\n",
       "          (bn2): FrozenBatchNorm2d(128, eps=1e-05)\n",
       "          (conv3): Conv2d(128, 512, kernel_size=(1, 1), stride=(1, 1), bias=False)\n",
       "          (bn3): FrozenBatchNorm2d(512, eps=1e-05)\n",
       "          (relu): ReLU(inplace=True)\n",
       "        )\n",
       "      )\n",
       "      (layer3): Sequential(\n",
       "        (0): Bottleneck(\n",
       "          (conv1): Conv2d(512, 256, kernel_size=(1, 1), stride=(1, 1), bias=False)\n",
       "          (bn1): FrozenBatchNorm2d(256, eps=1e-05)\n",
       "          (conv2): Conv2d(256, 256, kernel_size=(3, 3), stride=(2, 2), padding=(1, 1), bias=False)\n",
       "          (bn2): FrozenBatchNorm2d(256, eps=1e-05)\n",
       "          (conv3): Conv2d(256, 1024, kernel_size=(1, 1), stride=(1, 1), bias=False)\n",
       "          (bn3): FrozenBatchNorm2d(1024, eps=1e-05)\n",
       "          (relu): ReLU(inplace=True)\n",
       "          (downsample): Sequential(\n",
       "            (0): Conv2d(512, 1024, kernel_size=(1, 1), stride=(2, 2), bias=False)\n",
       "            (1): FrozenBatchNorm2d(1024, eps=1e-05)\n",
       "          )\n",
       "        )\n",
       "        (1): Bottleneck(\n",
       "          (conv1): Conv2d(1024, 256, kernel_size=(1, 1), stride=(1, 1), bias=False)\n",
       "          (bn1): FrozenBatchNorm2d(256, eps=1e-05)\n",
       "          (conv2): Conv2d(256, 256, kernel_size=(3, 3), stride=(1, 1), padding=(1, 1), bias=False)\n",
       "          (bn2): FrozenBatchNorm2d(256, eps=1e-05)\n",
       "          (conv3): Conv2d(256, 1024, kernel_size=(1, 1), stride=(1, 1), bias=False)\n",
       "          (bn3): FrozenBatchNorm2d(1024, eps=1e-05)\n",
       "          (relu): ReLU(inplace=True)\n",
       "        )\n",
       "        (2): Bottleneck(\n",
       "          (conv1): Conv2d(1024, 256, kernel_size=(1, 1), stride=(1, 1), bias=False)\n",
       "          (bn1): FrozenBatchNorm2d(256, eps=1e-05)\n",
       "          (conv2): Conv2d(256, 256, kernel_size=(3, 3), stride=(1, 1), padding=(1, 1), bias=False)\n",
       "          (bn2): FrozenBatchNorm2d(256, eps=1e-05)\n",
       "          (conv3): Conv2d(256, 1024, kernel_size=(1, 1), stride=(1, 1), bias=False)\n",
       "          (bn3): FrozenBatchNorm2d(1024, eps=1e-05)\n",
       "          (relu): ReLU(inplace=True)\n",
       "        )\n",
       "        (3): Bottleneck(\n",
       "          (conv1): Conv2d(1024, 256, kernel_size=(1, 1), stride=(1, 1), bias=False)\n",
       "          (bn1): FrozenBatchNorm2d(256, eps=1e-05)\n",
       "          (conv2): Conv2d(256, 256, kernel_size=(3, 3), stride=(1, 1), padding=(1, 1), bias=False)\n",
       "          (bn2): FrozenBatchNorm2d(256, eps=1e-05)\n",
       "          (conv3): Conv2d(256, 1024, kernel_size=(1, 1), stride=(1, 1), bias=False)\n",
       "          (bn3): FrozenBatchNorm2d(1024, eps=1e-05)\n",
       "          (relu): ReLU(inplace=True)\n",
       "        )\n",
       "        (4): Bottleneck(\n",
       "          (conv1): Conv2d(1024, 256, kernel_size=(1, 1), stride=(1, 1), bias=False)\n",
       "          (bn1): FrozenBatchNorm2d(256, eps=1e-05)\n",
       "          (conv2): Conv2d(256, 256, kernel_size=(3, 3), stride=(1, 1), padding=(1, 1), bias=False)\n",
       "          (bn2): FrozenBatchNorm2d(256, eps=1e-05)\n",
       "          (conv3): Conv2d(256, 1024, kernel_size=(1, 1), stride=(1, 1), bias=False)\n",
       "          (bn3): FrozenBatchNorm2d(1024, eps=1e-05)\n",
       "          (relu): ReLU(inplace=True)\n",
       "        )\n",
       "        (5): Bottleneck(\n",
       "          (conv1): Conv2d(1024, 256, kernel_size=(1, 1), stride=(1, 1), bias=False)\n",
       "          (bn1): FrozenBatchNorm2d(256, eps=1e-05)\n",
       "          (conv2): Conv2d(256, 256, kernel_size=(3, 3), stride=(1, 1), padding=(1, 1), bias=False)\n",
       "          (bn2): FrozenBatchNorm2d(256, eps=1e-05)\n",
       "          (conv3): Conv2d(256, 1024, kernel_size=(1, 1), stride=(1, 1), bias=False)\n",
       "          (bn3): FrozenBatchNorm2d(1024, eps=1e-05)\n",
       "          (relu): ReLU(inplace=True)\n",
       "        )\n",
       "      )\n",
       "      (layer4): Sequential(\n",
       "        (0): Bottleneck(\n",
       "          (conv1): Conv2d(1024, 512, kernel_size=(1, 1), stride=(1, 1), bias=False)\n",
       "          (bn1): FrozenBatchNorm2d(512, eps=1e-05)\n",
       "          (conv2): Conv2d(512, 512, kernel_size=(3, 3), stride=(2, 2), padding=(1, 1), bias=False)\n",
       "          (bn2): FrozenBatchNorm2d(512, eps=1e-05)\n",
       "          (conv3): Conv2d(512, 2048, kernel_size=(1, 1), stride=(1, 1), bias=False)\n",
       "          (bn3): FrozenBatchNorm2d(2048, eps=1e-05)\n",
       "          (relu): ReLU(inplace=True)\n",
       "          (downsample): Sequential(\n",
       "            (0): Conv2d(1024, 2048, kernel_size=(1, 1), stride=(2, 2), bias=False)\n",
       "            (1): FrozenBatchNorm2d(2048, eps=1e-05)\n",
       "          )\n",
       "        )\n",
       "        (1): Bottleneck(\n",
       "          (conv1): Conv2d(2048, 512, kernel_size=(1, 1), stride=(1, 1), bias=False)\n",
       "          (bn1): FrozenBatchNorm2d(512, eps=1e-05)\n",
       "          (conv2): Conv2d(512, 512, kernel_size=(3, 3), stride=(1, 1), padding=(1, 1), bias=False)\n",
       "          (bn2): FrozenBatchNorm2d(512, eps=1e-05)\n",
       "          (conv3): Conv2d(512, 2048, kernel_size=(1, 1), stride=(1, 1), bias=False)\n",
       "          (bn3): FrozenBatchNorm2d(2048, eps=1e-05)\n",
       "          (relu): ReLU(inplace=True)\n",
       "        )\n",
       "        (2): Bottleneck(\n",
       "          (conv1): Conv2d(2048, 512, kernel_size=(1, 1), stride=(1, 1), bias=False)\n",
       "          (bn1): FrozenBatchNorm2d(512, eps=1e-05)\n",
       "          (conv2): Conv2d(512, 512, kernel_size=(3, 3), stride=(1, 1), padding=(1, 1), bias=False)\n",
       "          (bn2): FrozenBatchNorm2d(512, eps=1e-05)\n",
       "          (conv3): Conv2d(512, 2048, kernel_size=(1, 1), stride=(1, 1), bias=False)\n",
       "          (bn3): FrozenBatchNorm2d(2048, eps=1e-05)\n",
       "          (relu): ReLU(inplace=True)\n",
       "        )\n",
       "      )\n",
       "    )\n",
       "    (fpn): FeaturePyramidNetwork(\n",
       "      (inner_blocks): ModuleList(\n",
       "        (0): Conv2d(512, 256, kernel_size=(1, 1), stride=(1, 1))\n",
       "        (1): Conv2d(1024, 256, kernel_size=(1, 1), stride=(1, 1))\n",
       "        (2): Conv2d(2048, 256, kernel_size=(1, 1), stride=(1, 1))\n",
       "      )\n",
       "      (layer_blocks): ModuleList(\n",
       "        (0): Conv2d(256, 256, kernel_size=(3, 3), stride=(1, 1), padding=(1, 1))\n",
       "        (1): Conv2d(256, 256, kernel_size=(3, 3), stride=(1, 1), padding=(1, 1))\n",
       "        (2): Conv2d(256, 256, kernel_size=(3, 3), stride=(1, 1), padding=(1, 1))\n",
       "      )\n",
       "      (extra_blocks): LastLevelP6P7(\n",
       "        (p6): Conv2d(256, 256, kernel_size=(3, 3), stride=(2, 2), padding=(1, 1))\n",
       "        (p7): Conv2d(256, 256, kernel_size=(3, 3), stride=(2, 2), padding=(1, 1))\n",
       "      )\n",
       "    )\n",
       "  )\n",
       "  (anchor_generator): AnchorGenerator()\n",
       "  (head): RetinaNetHead(\n",
       "    (classification_head): RetinaNetClassificationHead(\n",
       "      (conv): Sequential(\n",
       "        (0): Conv2d(256, 256, kernel_size=(3, 3), stride=(1, 1), padding=(1, 1))\n",
       "        (1): ReLU()\n",
       "        (2): Conv2d(256, 256, kernel_size=(3, 3), stride=(1, 1), padding=(1, 1))\n",
       "        (3): ReLU()\n",
       "        (4): Conv2d(256, 256, kernel_size=(3, 3), stride=(1, 1), padding=(1, 1))\n",
       "        (5): ReLU()\n",
       "        (6): Conv2d(256, 256, kernel_size=(3, 3), stride=(1, 1), padding=(1, 1))\n",
       "        (7): ReLU()\n",
       "      )\n",
       "      (cls_logits): Conv2d(256, 9, kernel_size=(3, 3), stride=(1, 1), padding=(1, 1))\n",
       "    )\n",
       "    (regression_head): RetinaNetRegressionHead(\n",
       "      (conv): Sequential(\n",
       "        (0): Conv2d(256, 256, kernel_size=(3, 3), stride=(1, 1), padding=(1, 1))\n",
       "        (1): ReLU()\n",
       "        (2): Conv2d(256, 256, kernel_size=(3, 3), stride=(1, 1), padding=(1, 1))\n",
       "        (3): ReLU()\n",
       "        (4): Conv2d(256, 256, kernel_size=(3, 3), stride=(1, 1), padding=(1, 1))\n",
       "        (5): ReLU()\n",
       "        (6): Conv2d(256, 256, kernel_size=(3, 3), stride=(1, 1), padding=(1, 1))\n",
       "        (7): ReLU()\n",
       "      )\n",
       "      (bbox_reg): Conv2d(256, 36, kernel_size=(3, 3), stride=(1, 1), padding=(1, 1))\n",
       "    )\n",
       "  )\n",
       "  (transform): GeneralizedRCNNTransform(\n",
       "      Normalize(mean=[0.485, 0.456, 0.406], std=[0.229, 0.224, 0.225])\n",
       "      Resize(min_size=(800,), max_size=1333, mode='bilinear')\n",
       "  )\n",
       ")"
      ]
     },
     "execution_count": 15,
     "metadata": {},
     "output_type": "execute_result"
    }
   ],
   "source": [
    "#retina.load_state_dict(torch.load(f'retina_{num_epochs}.pt'))\n",
    "retina.load_state_dict(torch.load(f'retina_30_0.001_OID.pt'))\n",
    "device=torch.device('cuda') if torch.cuda.is_available() else torch.device('cpu')\n",
    "retina.to(device)"
   ]
  },
  {
   "cell_type": "code",
   "execution_count": 16,
   "id": "97378663",
   "metadata": {},
   "outputs": [],
   "source": [
    "def make_prediction(model,img,threshold):\n",
    "    model.eval()\n",
    "    preds=model(img)\n",
    "    for id in range(len(preds)):\n",
    "        idx_list=[]\n",
    "        \n",
    "        for idx,score in enumerate(preds[id]['scores']):\n",
    "            if score>threshold:\n",
    "                idx_list.append(idx)\n",
    "                \n",
    "        preds[id]['boxes']=preds[id]['boxes'][idx_list]\n",
    "        preds[id]['labels']=preds[id]['labels'][idx_list]\n",
    "        preds[id]['scores']=preds[id]['scores'][idx_list]\n",
    "        \n",
    "        \n",
    "    return preds\n"
   ]
  },
  {
   "cell_type": "code",
   "execution_count": 17,
   "id": "b523b536",
   "metadata": {},
   "outputs": [],
   "source": [
    "test_data_xml_list=xml_list(301,410)\n",
    "test_data_img_list=img_list(test_data_xml_list)"
   ]
  },
  {
   "cell_type": "code",
   "execution_count": 18,
   "id": "336e8de0",
   "metadata": {},
   "outputs": [],
   "source": [
    "test_dataset=AlbumentationDataset(img_list=test_data_img_list,transform=albumentations_transform)\n",
    "test_data_loader=torch.utils.data.DataLoader(test_dataset,batch_size=8, collate_fn=collate_fn)"
   ]
  },
  {
   "cell_type": "code",
   "execution_count": null,
   "id": "17d2535a",
   "metadata": {},
   "outputs": [
    {
     "name": "stderr",
     "output_type": "stream",
     "text": [
      "  0%|                                                                                          | 0/441 [00:00<?, ?it/s]C:\\Users\\SeongJin\\anaconda3\\envs\\capstone\\lib\\site-packages\\torch\\functional.py:445: UserWarning: torch.meshgrid: in an upcoming release, it will be required to pass the indexing argument. (Triggered internally at  ..\\aten\\src\\ATen\\native\\TensorShape.cpp:2157.)\n",
      "  return _VF.meshgrid(tensors, **kwargs)  # type: ignore[attr-defined]\n",
      " 95%|███████████████████████████████████████████████████████████████████████████▋    | 417/441 [09:38<00:33,  1.38s/it]"
     ]
    }
   ],
   "source": [
    "labels=[]\n",
    "preds_adj_all=[]\n",
    "annot_all=[]\n",
    "\n",
    "for im,annot in tqdm(test_data_loader,position=0,leave=True):\n",
    "    im=list(img.to(device) for img in im)\n",
    "    \n",
    "    for t in annot:\n",
    "        labels+=t['labels']\n",
    "        \n",
    "    with torch.no_grad():\n",
    "        preds_adj=make_prediction(retina,im,0.5)\n",
    "        preds_adj=[{k:v.to(torch.device('cpu')) for k,v in t.items()} for t in preds_adj]\n",
    "        preds_adj_all.append(preds_adj)\n",
    "        annot_all.append(annot)"
   ]
  },
  {
   "cell_type": "code",
   "execution_count": null,
   "id": "b49e66d2",
   "metadata": {
    "scrolled": true
   },
   "outputs": [],
   "source": [
    "import random\n",
    "\n",
    "total=range(len(test_data_loader))\n",
    "select=random.sample(total,10);\n",
    "\n",
    "for i in select:\n",
    "    test_annot=annot_all[i][0]\n",
    "    img,annot=test_dataset[i]\n",
    "\n",
    "    plot_image(img,annot)\n",
    "    plot_image(img,test_annot)"
   ]
  },
  {
   "cell_type": "code",
   "execution_count": null,
   "id": "4ffe8481",
   "metadata": {},
   "outputs": [],
   "source": [
    "import utils_ObjectDetection as utils"
   ]
  },
  {
   "cell_type": "code",
   "execution_count": null,
   "id": "4ab1c76a",
   "metadata": {},
   "outputs": [],
   "source": [
    "sample_metrics=[]\n",
    "for batch_i in range(len(preds_adj_all)):\n",
    "    sample_metrics+=utils.get_batch_statistics(preds_adj_all[batch_i],annot_all[batch_i],iou_threshold=0.5)\n",
    "    \n",
    "true_positives,pred_scores,pred_labels=[torch.cat(x,0) for x in list(zip(*sample_metrics))]\n",
    "precision,recall,AP,f1,ap_class=utils.ap_per_class(true_positives,pred_scores,pred_labels,torch.tensor(labels))\n",
    "mAP=torch.mean(AP)\n",
    "print(f'mAP : {mAP}')\n",
    "print(f'AP : {AP}')"
   ]
  },
  {
   "cell_type": "code",
   "execution_count": null,
   "id": "74b9c5a9",
   "metadata": {},
   "outputs": [],
   "source": []
  }
 ],
 "metadata": {
  "kernelspec": {
   "display_name": "capstone",
   "language": "python",
   "name": "capstone"
  },
  "language_info": {
   "codemirror_mode": {
    "name": "ipython",
    "version": 3
   },
   "file_extension": ".py",
   "mimetype": "text/x-python",
   "name": "python",
   "nbconvert_exporter": "python",
   "pygments_lexer": "ipython3",
   "version": "3.8.12"
  }
 },
 "nbformat": 4,
 "nbformat_minor": 5
}
